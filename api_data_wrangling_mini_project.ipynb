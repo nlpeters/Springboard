{
 "cells": [
  {
   "cell_type": "markdown",
   "metadata": {},
   "source": [
    "This exercise will require you to pull some data from the Qunadl API. Qaundl is currently the most widely used aggregator of financial market data."
   ]
  },
  {
   "cell_type": "markdown",
   "metadata": {},
   "source": [
    "As a first step, you will need to register a free account on the http://www.quandl.com website."
   ]
  },
  {
   "cell_type": "markdown",
   "metadata": {},
   "source": [
    "After you register, you will be provided with a unique API key, that you should store:"
   ]
  },
  {
   "cell_type": "code",
   "execution_count": 1,
   "metadata": {},
   "outputs": [],
   "source": [
    "# Store the API key as a string - according to PEP8, constants are always named in all upper case\n",
    "API_KEY = 'UFHxDvPy9nMm5j8agGWy'"
   ]
  },
  {
   "cell_type": "markdown",
   "metadata": {},
   "source": [
    "Qaundl has a large number of data sources, but, unfortunately, most of them require a Premium subscription. Still, there are also a good number of free datasets."
   ]
  },
  {
   "cell_type": "markdown",
   "metadata": {},
   "source": [
    "For this mini project, we will focus on equities data from the Frankfurt Stock Exhange (FSE), which is available for free. We'll try and analyze the stock prices of a company called Carl Zeiss Meditec, which manufactures tools for eye examinations, as well as medical lasers for laser eye surgery: https://www.zeiss.com/meditec/int/home.html. The company is listed under the stock ticker AFX_X."
   ]
  },
  {
   "cell_type": "markdown",
   "metadata": {},
   "source": [
    "You can find the detailed Quandl API instructions here: https://docs.quandl.com/docs/time-series"
   ]
  },
  {
   "cell_type": "markdown",
   "metadata": {},
   "source": [
    "While there is a dedicated Python package for connecting to the Quandl API, we would prefer that you use the *requests* package, which can be easily downloaded using *pip* or *conda*. You can find the documentation for the package here: http://docs.python-requests.org/en/master/ "
   ]
  },
  {
   "cell_type": "markdown",
   "metadata": {},
   "source": [
    "Finally, apart from the *requests* package, you are encouraged to not use any third party Python packages, such as *pandas*, and instead focus on what's available in the Python Standard Library (the *collections* module might come in handy: https://pymotw.com/3/collections/ ).\n",
    "Also, since you won't have access to DataFrames, you are encouraged to us Python's native data structures - preferably dictionaries, though some questions can also be answered using lists.\n",
    "You can read more on these data structures here: https://docs.python.org/3/tutorial/datastructures.html"
   ]
  },
  {
   "cell_type": "markdown",
   "metadata": {},
   "source": [
    "Keep in mind that the JSON responses you will be getting from the API map almost one-to-one to Python's dictionaries. Unfortunately, they can be very nested, so make sure you read up on indexing dictionaries in the documentation provided above."
   ]
  },
  {
   "cell_type": "code",
   "execution_count": 2,
   "metadata": {},
   "outputs": [],
   "source": [
    "# First, import the relevant modules\n",
    "import requests\n",
    "import json\n",
    "import statistics\n",
    "import math"
   ]
  },
  {
   "cell_type": "code",
   "execution_count": 3,
   "metadata": {},
   "outputs": [
    {
     "name": "stdout",
     "output_type": "stream",
     "text": [
      "{'dataset': {'id': 10095370, 'dataset_code': 'AFX_X', 'database_code': 'FSE', 'name': 'Carl Zeiss Meditec (AFX_X)', 'description': 'Stock Prices for Carl Zeiss Meditec (2020-11-02) from the Frankfurt Stock Exchange.<br><br>Trading System: Xetra<br><br>ISIN: DE0005313704', 'refreshed_at': '2020-12-01T14:48:09.907Z', 'newest_available_date': '2020-12-01', 'oldest_available_date': '2000-06-07', 'column_names': ['Date', 'Open', 'High', 'Low', 'Close', 'Change', 'Traded Volume', 'Turnover', 'Last Price of the Day', 'Daily Traded Units', 'Daily Turnover'], 'frequency': 'daily', 'type': 'Time Series', 'premium': False, 'limit': None, 'transform': None, 'column_index': None, 'start_date': '2020-10-29', 'end_date': '2020-10-29', 'data': [['2020-10-29', 112.1, 113.0, 106.7, 109.5, None, 395.0, 43369.2, None, None, None]], 'collapse': None, 'order': None, 'database_id': 6129}}\n"
     ]
    }
   ],
   "source": [
    "# Now, call the Quandl API and pull out a small sample of the data (only one day) to get a glimpse\n",
    "# into the JSON structure that will be returned\n",
    "url = 'https://www.quandl.com/api/v3/datasets/FSE/AFX_X.json'\n",
    "params = dict(api_key=API_KEY, start_date='2020-10-29', end_date='2020-10-29')\n",
    "r = requests.get(url, params=params)\n",
    "j = json.loads(r.text)\n",
    "print(j)"
   ]
  },
  {
   "cell_type": "code",
   "execution_count": 4,
   "metadata": {
    "scrolled": true
   },
   "outputs": [
    {
     "name": "stdout",
     "output_type": "stream",
     "text": [
      "{'id': 10095370, 'dataset_code': 'AFX_X', 'database_code': 'FSE', 'name': 'Carl Zeiss Meditec (AFX_X)', 'description': 'Stock Prices for Carl Zeiss Meditec (2020-11-02) from the Frankfurt Stock Exchange.<br><br>Trading System: Xetra<br><br>ISIN: DE0005313704', 'refreshed_at': '2020-12-01T14:48:09.907Z', 'newest_available_date': '2020-12-01', 'oldest_available_date': '2000-06-07', 'column_names': ['Date', 'Open', 'High', 'Low', 'Close', 'Change', 'Traded Volume', 'Turnover', 'Last Price of the Day', 'Daily Traded Units', 'Daily Turnover'], 'frequency': 'daily', 'type': 'Time Series', 'premium': False, 'limit': None, 'transform': None, 'column_index': None, 'start_date': '2020-10-29', 'end_date': '2020-10-29', 'data': [['2020-10-29', 112.1, 113.0, 106.7, 109.5, None, 395.0, 43369.2, None, None, None]], 'collapse': None, 'order': None, 'database_id': 6129}\n",
      "['Date', 'Open', 'High', 'Low', 'Close', 'Change', 'Traded Volume', 'Turnover', 'Last Price of the Day', 'Daily Traded Units', 'Daily Turnover']\n",
      "[['2020-10-29', 112.1, 113.0, 106.7, 109.5, None, 395.0, 43369.2, None, None, None]]\n"
     ]
    }
   ],
   "source": [
    "# Inspect the JSON structure of the object you created, and take note of how nested it is,\n",
    "# as well as the overall structure\n",
    "print(j['dataset'])\n",
    "print(j['dataset']['column_names'])\n",
    "print(j['dataset']['data'])"
   ]
  },
  {
   "cell_type": "markdown",
   "metadata": {},
   "source": [
    "These are your tasks for this mini project:\n",
    "\n",
    "1. Collect data from the Franfurt Stock Exchange, for the ticker AFX_X, for the whole year 2017 (keep in mind that the date format is YYYY-MM-DD).\n",
    "2. Convert the returned JSON object into a Python dictionary.\n",
    "3. Calculate what the highest and lowest opening prices were for the stock in this period.\n",
    "4. What was the largest change in any one day (based on High and Low price)?\n",
    "5. What was the largest change between any two days (based on Closing Price)?\n",
    "6. What was the average daily trading volume during this year?\n",
    "7. (Optional) What was the median trading volume during this year. (Note: you may need to implement your own function for calculating the median.)"
   ]
  },
  {
   "cell_type": "code",
   "execution_count": 5,
   "metadata": {},
   "outputs": [],
   "source": [
    "#1. Collect data from the Franfurt Stock Exchange, for the ticker AFX_X, for the whole year 2017.\n",
    "url = 'https://www.quandl.com/api/v3/datasets/FSE/AFX_X.json'\n",
    "params = dict(api_key=API_KEY, start_date='2017-01-01', end_date='2017-12-31')\n",
    "r = requests.get(url, params=params)"
   ]
  },
  {
   "cell_type": "code",
   "execution_count": 6,
   "metadata": {},
   "outputs": [],
   "source": [
    "#2. Convert the returned JSON object into a Python dictionary.\n",
    "r_dict = json.loads(r.text)"
   ]
  },
  {
   "cell_type": "code",
   "execution_count": 7,
   "metadata": {},
   "outputs": [
    {
     "name": "stdout",
     "output_type": "stream",
     "text": [
      "['Date', 'Open', 'High', 'Low', 'Close', 'Change', 'Traded Volume', 'Turnover', 'Last Price of the Day', 'Daily Traded Units', 'Daily Turnover']\n"
     ]
    }
   ],
   "source": [
    "#Informational for exercises\n",
    "cols = r_dict['dataset']['column_names']\n",
    "print(cols)"
   ]
  },
  {
   "cell_type": "code",
   "execution_count": 8,
   "metadata": {},
   "outputs": [],
   "source": [
    "#Set up for exercises\n",
    "DATE_COL = 0\n",
    "OPEN_COL = 1\n",
    "HIGH_COL = 2\n",
    "LOW_COL = 3\n",
    "CLOSE_COL = 4\n",
    "TRADED_VOLUME_COL = 6\n",
    "data = r_dict['dataset']['data']\n",
    "def get_data_col(data_in, col_index_in):\n",
    "    list_out = [row[col_index_in] for row in data_in if row[col_index_in] != None]\n",
    "    return list_out"
   ]
  },
  {
   "cell_type": "code",
   "execution_count": 9,
   "metadata": {},
   "outputs": [
    {
     "name": "stdout",
     "output_type": "stream",
     "text": [
      "Lowest open = 34.0; Highest open = 53.11\n"
     ]
    }
   ],
   "source": [
    "#3. Calculate what the highest and lowest opening prices were for the stock in this period.\n",
    "open_list = get_data_col(data, OPEN_COL)\n",
    "open_lowest = min(open_list)\n",
    "open_highest = max(open_list)\n",
    "print('Lowest open = ' + str(open_lowest) + '; Highest open = ' + str(open_highest))"
   ]
  },
  {
   "cell_type": "code",
   "execution_count": 10,
   "metadata": {},
   "outputs": [
    {
     "name": "stdout",
     "output_type": "stream",
     "text": [
      "Largest change within a day = 2.8100000000000023\n"
     ]
    }
   ],
   "source": [
    "#4. What was the largest change in any one day (based on High and Low price)?\n",
    "change_within_day_list = []\n",
    "change_within_day_list = [row[HIGH_COL] - row[LOW_COL] for row in data if row[HIGH_COL] != None and row[LOW_COL] != None]\n",
    "change_within_day_largest = max(change_within_day_list)\n",
    "print('Largest change within a day = ' + str(change_within_day_largest))"
   ]
  },
  {
   "cell_type": "code",
   "execution_count": 11,
   "metadata": {},
   "outputs": [
    {
     "name": "stdout",
     "output_type": "stream",
     "text": [
      "Largest change within 2 days = 2.729999999999997\n"
     ]
    }
   ],
   "source": [
    "#5. What was the largest change between any two days (based on Closing Price)?\n",
    "change_within_2_days_list = []\n",
    "#So can capture curr_day (index - 1) and next day (index) starting with next_day = 1\n",
    "two_day_range = range(1, len(data) - 1)\n",
    "\n",
    "# Note: data[index -1] is current day and data[index] is next day\n",
    "change_within_2_days_list = [data[index][CLOSE_COL] - data[index - 1][OPEN_COL] for index in two_day_range if data[index - 1][OPEN_COL] != None and data[index][CLOSE_COL] != None]        \n",
    "change_within_2_days_largest = max(change_within_2_days_list)\n",
    "print('Largest change within 2 days = ' + str(change_within_2_days_largest))"
   ]
  },
  {
   "cell_type": "code",
   "execution_count": 12,
   "metadata": {},
   "outputs": [
    {
     "name": "stdout",
     "output_type": "stream",
     "text": [
      "Average daily trading volume = 89124.33725490196\n"
     ]
    }
   ],
   "source": [
    "#6. What was the average daily trading volume during this year?\n",
    "trading_volume_list = get_data_col(data, TRADED_VOLUME_COL)\n",
    "avg_trading_volume = statistics.mean(trading_volume_list)       \n",
    "print('Average daily trading volume = ' + str(avg_trading_volume))        "
   ]
  },
  {
   "cell_type": "code",
   "execution_count": 13,
   "metadata": {},
   "outputs": [
    {
     "name": "stdout",
     "output_type": "stream",
     "text": [
      "Median daily trading volume = 76286.0\n",
      "Median daily trading volume (using my_median) = 76286.0\n"
     ]
    }
   ],
   "source": [
    "#7. (Optional) What was the median trading volume during this year.\n",
    "median_trading_volume = statistics.median(trading_volume_list)       \n",
    "print('Median daily trading volume = ' + str(median_trading_volume))  \n",
    "\n",
    "def my_median(list_in):\n",
    "    list_len = len(list_in)\n",
    "    mid_list_len = math.trunc(list_len / 2)\n",
    "    mid_list_odd = list_len % 2\n",
    "    sorted_list = sorted(list_in)    \n",
    "    if mid_list_odd:\n",
    "        mid_list_pos = mid_list_len\n",
    "        median = sorted_list[mid_list_pos]\n",
    "    else:\n",
    "        mid_list_first_pos = mid_list_len - 1\n",
    "        mid_list_second_pos = mid_list_len\n",
    "        median = (sorted_list[mid_list_first_pos] + sorted_list[mid_list_second_pos]) / 2\n",
    "    return median\n",
    "\n",
    "my_median_trading_volume = my_median(trading_volume_list)       \n",
    "print('Median daily trading volume (using my_median) = ' + str(my_median_trading_volume)) \n",
    "    "
   ]
  },
  {
   "cell_type": "code",
   "execution_count": null,
   "metadata": {},
   "outputs": [],
   "source": []
  }
 ],
 "metadata": {
  "kernelspec": {
   "display_name": "Python 3",
   "language": "python",
   "name": "python3"
  },
  "language_info": {
   "codemirror_mode": {
    "name": "ipython",
    "version": 3
   },
   "file_extension": ".py",
   "mimetype": "text/x-python",
   "name": "python",
   "nbconvert_exporter": "python",
   "pygments_lexer": "ipython3",
   "version": "3.6.5"
  }
 },
 "nbformat": 4,
 "nbformat_minor": 2
}
